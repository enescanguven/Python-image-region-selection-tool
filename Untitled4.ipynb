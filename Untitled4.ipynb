{
 "cells": [
  {
   "cell_type": "code",
   "execution_count": 12,
   "id": "special-centre",
   "metadata": {},
   "outputs": [],
   "source": [
    "import cv2\n",
    "import matplotlib.pyplot as plt\n",
    "import matplotlib.image as mpimg\n",
    "import numpy as np"
   ]
  },
  {
   "cell_type": "code",
   "execution_count": 13,
   "id": "western-turkish",
   "metadata": {},
   "outputs": [],
   "source": [
    "i=0\n",
    "listx = []\n",
    "listy = []\n",
    "\n",
    "def click_event(event, x, y, flags, params):\n",
    "    \n",
    "    if event == cv2.EVENT_LBUTTONDOWN:\n",
    "        \n",
    "        listx.append(x)\n",
    "        listy.append(y)\n",
    "        \n",
    "        "
   ]
  },
  {
   "cell_type": "code",
   "execution_count": 14,
   "id": "considered-tokyo",
   "metadata": {},
   "outputs": [],
   "source": [
    "if __name__==\"__main__\":\n",
    "    \n",
    "    # reading the image\n",
    "    img = cv2.imread('samples/buse.jpg', 1)\n",
    "  \n",
    "    # displaying the image\n",
    "    cv2.imshow('image', img)\n",
    "  \n",
    "    # setting mouse hadler for the image\n",
    "    # and calling the click_event() function\n",
    "    cv2.setMouseCallback('image', click_event)\n",
    "  \n",
    "    # wait for a key to be pressed to exit\n",
    "    cv2.waitKey(0)\n",
    "\n",
    "    listx.append(listx[0])\n",
    "    listy.append(listy[0])\n",
    "    listxy = list(zip(listx,listy))\n",
    "    \n",
    "    arr = np.array(listxy)\n",
    "\n",
    "    # close the window\n",
    "    cv2.destroyAllWindows()\n",
    "    "
   ]
  },
  {
   "cell_type": "code",
   "execution_count": 15,
   "id": "appropriate-therapist",
   "metadata": {},
   "outputs": [
    {
     "name": "stdout",
     "output_type": "stream",
     "text": [
      "[[ 43 273]\n",
      " [ 82 245]\n",
      " [ 70 184]\n",
      " [ 60  90]\n",
      " [189  49]\n",
      " [208 171]\n",
      " [301 277]\n",
      " [267 359]\n",
      " [ 36 270]\n",
      " [ 43 273]]\n"
     ]
    }
   ],
   "source": [
    "print(arr)"
   ]
  },
  {
   "cell_type": "code",
   "execution_count": 16,
   "id": "german-moldova",
   "metadata": {},
   "outputs": [
    {
     "name": "stdout",
     "output_type": "stream",
     "text": [
      "<class 'numpy.ndarray'>\n"
     ]
    }
   ],
   "source": [
    "print(type(arr))\n",
    "stencil = np.zeros(img.shape).astype(img.dtype)"
   ]
  },
  {
   "cell_type": "code",
   "execution_count": 17,
   "id": "dangerous-style",
   "metadata": {},
   "outputs": [],
   "source": [
    "color = [255, 255, 255]\n",
    "cnt = [arr]"
   ]
  },
  {
   "cell_type": "code",
   "execution_count": 18,
   "id": "super-scott",
   "metadata": {},
   "outputs": [
    {
     "data": {
      "text/plain": [
       "True"
      ]
     },
     "execution_count": 18,
     "metadata": {},
     "output_type": "execute_result"
    }
   ],
   "source": [
    "cv2.fillPoly(stencil, cnt, color)\n",
    "result = cv2.bitwise_and(img, stencil)\n",
    "cv2.imwrite(\"result.jpg\", result)\n"
   ]
  },
  {
   "cell_type": "code",
   "execution_count": null,
   "id": "detected-kentucky",
   "metadata": {},
   "outputs": [],
   "source": [
    "img = cv2.imread(\"result.jpg\")\n",
    "\n",
    "cv2.imshow('image',img)\n",
    "\n",
    "cv2.waitKey(0)\n",
    "cv2.destroyAllWindows()"
   ]
  },
  {
   "cell_type": "code",
   "execution_count": null,
   "id": "mobile-riding",
   "metadata": {},
   "outputs": [],
   "source": []
  }
 ],
 "metadata": {
  "kernelspec": {
   "display_name": "Python 3",
   "language": "python",
   "name": "python3"
  },
  "language_info": {
   "codemirror_mode": {
    "name": "ipython",
    "version": 3
   },
   "file_extension": ".py",
   "mimetype": "text/x-python",
   "name": "python",
   "nbconvert_exporter": "python",
   "pygments_lexer": "ipython3",
   "version": "3.8.5"
  }
 },
 "nbformat": 4,
 "nbformat_minor": 5
}
