{
 "cells": [
  {
   "cell_type": "code",
   "execution_count": 1,
   "id": "timely-newman",
   "metadata": {},
   "outputs": [],
   "source": [
    "import numpy as np\n",
    "xylist=np.zeros((5,2), dtype=int)"
   ]
  },
  {
   "cell_type": "code",
   "execution_count": 2,
   "id": "rocky-palestinian",
   "metadata": {},
   "outputs": [
    {
     "name": "stdout",
     "output_type": "stream",
     "text": [
      "[[0 0]\n",
      " [0 0]\n",
      " [0 0]\n",
      " [0 0]\n",
      " [0 0]]\n"
     ]
    }
   ],
   "source": [
    "print (xylist)"
   ]
  },
  {
   "cell_type": "code",
   "execution_count": 8,
   "id": "raising-software",
   "metadata": {},
   "outputs": [
    {
     "data": {
      "text/plain": [
       "0"
      ]
     },
     "execution_count": 8,
     "metadata": {},
     "output_type": "execute_result"
    }
   ],
   "source": [
    "i=1\n",
    "xylist[1,1]=5\n"
   ]
  },
  {
   "cell_type": "code",
   "execution_count": null,
   "id": "indie-malta",
   "metadata": {},
   "outputs": [],
   "source": []
  }
 ],
 "metadata": {
  "kernelspec": {
   "display_name": "Python 3",
   "language": "python",
   "name": "python3"
  },
  "language_info": {
   "codemirror_mode": {
    "name": "ipython",
    "version": 3
   },
   "file_extension": ".py",
   "mimetype": "text/x-python",
   "name": "python",
   "nbconvert_exporter": "python",
   "pygments_lexer": "ipython3",
   "version": "3.8.5"
  }
 },
 "nbformat": 4,
 "nbformat_minor": 5
}
