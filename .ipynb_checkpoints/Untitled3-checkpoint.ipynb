{
 "cells": [
  {
   "cell_type": "code",
   "execution_count": null,
   "id": "breeding-sacramento",
   "metadata": {},
   "outputs": [],
   "source": [
    "import cv2\n",
    "import numpy\n",
    "img = cv2.imread(\"zebra.jpg\")\n",
    "stencil = numpy.zeros(img.shape).astype(img.dtype)\n",
    "arr=numpy.array([[100, 180], [200, 280], [200, 180]])\n",
    "print(type(arr))\n",
    "contours = [arr]\n",
    "\n",
    "color = [255, 255, 255]\n",
    "cv2.fillPoly(stencil, contours, color)\n",
    "result = cv2.bitwise_and(img, stencil)\n",
    "cv2.imwrite(\"result.jpg\", result)\n",
    "\n",
    "img = cv2.imread(\"result.jpg\")\n",
    "\n",
    "cv2.imshow('image',img)\n",
    "\n",
    "cv2.waitKey(0)\n",
    "cv2.destroyAllWindows()\n"
   ]
  },
  {
   "cell_type": "code",
   "execution_count": null,
   "id": "cognitive-holiday",
   "metadata": {},
   "outputs": [],
   "source": []
  }
 ],
 "metadata": {
  "kernelspec": {
   "display_name": "Python 3",
   "language": "python",
   "name": "python3"
  },
  "language_info": {
   "codemirror_mode": {
    "name": "ipython",
    "version": 3
   },
   "file_extension": ".py",
   "mimetype": "text/x-python",
   "name": "python",
   "nbconvert_exporter": "python",
   "pygments_lexer": "ipython3",
   "version": "3.8.5"
  }
 },
 "nbformat": 4,
 "nbformat_minor": 5
}
